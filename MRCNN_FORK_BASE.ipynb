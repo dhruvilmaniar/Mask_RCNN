{
  "nbformat": 4,
  "nbformat_minor": 0,
  "metadata": {
    "colab": {
      "name": "MRCNN_FORK_BASE.ipynb",
      "provenance": [],
      "collapsed_sections": [],
      "authorship_tag": "ABX9TyOjxoTDO9KP0TEbRaeH55/Z",
      "include_colab_link": true
    },
    "kernelspec": {
      "name": "python3",
      "display_name": "Python 3"
    },
    "language_info": {
      "name": "python"
    }
  },
  "cells": [
    {
      "cell_type": "markdown",
      "metadata": {
        "id": "view-in-github",
        "colab_type": "text"
      },
      "source": [
        "<a href=\"https://colab.research.google.com/github/dhruvilmaniar/Mask_RCNN/blob/master/MRCNN_FORK_BASE.ipynb\" target=\"_parent\"><img src=\"https://colab.research.google.com/assets/colab-badge.svg\" alt=\"Open In Colab\"/></a>"
      ]
    },
    {
      "cell_type": "code",
      "metadata": {
        "id": "_dE5vsIGNZh6"
      },
      "source": [
        "%cd\n",
        "\n",
        "!git clone https://github.com/dhruvilmaniar/Mask_RCNN.git"
      ],
      "execution_count": null,
      "outputs": []
    },
    {
      "cell_type": "code",
      "metadata": {
        "id": "IlAx52epNfwa"
      },
      "source": [
        "%cd ~/Mask_RCNN\n",
        "\n",
        "!pip install -r requirements.txt\n",
        "!python setup.py install"
      ],
      "execution_count": null,
      "outputs": []
    },
    {
      "cell_type": "code",
      "metadata": {
        "id": "qPbBoWuGNfmw"
      },
      "source": [
        "! wget <dataset=url>"
      ],
      "execution_count": null,
      "outputs": []
    },
    {
      "cell_type": "code",
      "metadata": {
        "id": "dlg5KVtfNfdJ"
      },
      "source": [
        "! unrar X <dataset-name>.rar dataset/"
      ],
      "execution_count": null,
      "outputs": []
    },
    {
      "cell_type": "code",
      "metadata": {
        "id": "2AM_ix5BNfZw"
      },
      "source": [
        "%cd ~/Mask_RCNN\n",
        "\n",
        "!cp ~/Mask_RCNN/samples/balloon/balloon.py ./nail.py\n",
        "\n",
        "!sed -i -- 's/balloon/nail/g' nail.py\n",
        "!sed -i -- 's/Balloon/Nail/g' nail.py\n",
        "\n",
        "\n",
        "!sed -i -- 's/epochs=30/epochs=20/g' nail.py"
      ],
      "execution_count": null,
      "outputs": []
    },
    {
      "cell_type": "code",
      "metadata": {
        "id": "S4meD9KUNfXJ"
      },
      "source": [
        "%cd ~/Mask_RCNN\n",
        "\n",
        "!python nail.py train --dataset=dataset/ --weights=imagenet"
      ],
      "execution_count": null,
      "outputs": []
    },
    {
      "cell_type": "code",
      "metadata": {
        "id": "vtCXcugWNfUS"
      },
      "source": [
        ""
      ],
      "execution_count": null,
      "outputs": []
    },
    {
      "cell_type": "code",
      "metadata": {
        "id": "8fgcQLEFNfSN"
      },
      "source": [
        ""
      ],
      "execution_count": null,
      "outputs": []
    },
    {
      "cell_type": "code",
      "metadata": {
        "id": "77vrX7krNfPD"
      },
      "source": [
        ""
      ],
      "execution_count": null,
      "outputs": []
    },
    {
      "cell_type": "code",
      "metadata": {
        "id": "kNVQ9JMkNfL-"
      },
      "source": [
        ""
      ],
      "execution_count": null,
      "outputs": []
    },
    {
      "cell_type": "code",
      "metadata": {
        "id": "UOeUWsXoNfJR"
      },
      "source": [
        ""
      ],
      "execution_count": null,
      "outputs": []
    },
    {
      "cell_type": "code",
      "metadata": {
        "id": "HlRKQVsqNfGQ"
      },
      "source": [
        ""
      ],
      "execution_count": null,
      "outputs": []
    }
  ]
}